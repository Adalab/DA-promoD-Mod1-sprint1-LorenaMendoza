{
 "cells": [
  {
   "attachments": {},
   "cell_type": "markdown",
   "metadata": {},
   "source": [
    "**Métodos de *strings***\n",
    "\n",
    "Dado el siguiente *string* \n",
    "\n",
    "```python\n",
    "\n",
    "string = \"\"\"Hoy estamos en una clase de repaso,\n",
    "el objetivo es intentar solucionar todas vuestras dudas, \n",
    "preguntad todo lo que queráis! \n",
    "\"\"\"\n",
    "```\n",
    "\n",
    "\n",
    "Contesta a las siguientes preguntas: \n",
    "\n",
    "1️⃣ Crea dos variables nuevas: \n",
    "    - Una con el *string* en mayúsculas\n",
    "    - Otra con las letras en minúsculas\n",
    "\n",
    "2️⃣ Pon todas las primeras letras del *string* en mayúscula\n",
    "\n",
    "3️⃣ Separa el *string*  por los espacios y almacena el resultado en una lista llamanda `texto_lista`\n",
    "\n",
    "4️⃣ De la lista obtenida en el ejercicio anterior, selecciona solo los 5 primero elementos y almacena los resultados en una variable que se llame `texto_lista_corta` \n",
    "\n",
    "5️⃣ De la lista obtenida en el ejercicio 5. Vuelve a convertirlo en *string* \n",
    "\n",
    "6️⃣ Con el *string* obtenido en el paso anterior: \n",
    "\n",
    "    - Esta la palabra \"el\" en el *string* \n",
    "\n",
    "    - Reemplaza \"Hoy\" por nada\n",
    "\n",
    "    - El ejercicio anterior nos ha dejado espacios al inicio del string, eliminalos\n"
   ]
  },
  {
   "attachments": {},
   "cell_type": "markdown",
   "metadata": {},
   "source": [
    "1. Crea dos variables nuevas.\n"
   ]
  },
  {
   "cell_type": "code",
   "execution_count": 1,
   "metadata": {},
   "outputs": [],
   "source": [
    "string = \"Hoy estamos en una clase de repaso, el objetivo es intentar solucionar todas vuestras dudas, preguntad todo lo que queráis!\""
   ]
  },
  {
   "attachments": {},
   "cell_type": "markdown",
   "metadata": {},
   "source": [
    "- Una con el string en mayúsculas."
   ]
  },
  {
   "cell_type": "code",
   "execution_count": 2,
   "metadata": {},
   "outputs": [
    {
     "data": {
      "text/plain": [
       "'HOY ESTAMOS EN UNA CLASE DE REPASO, EL OBJETIVO ES INTENTAR SOLUCIONAR TODAS VUESTRAS DUDAS, PREGUNTAD TODO LO QUE QUERÁIS!'"
      ]
     },
     "execution_count": 2,
     "metadata": {},
     "output_type": "execute_result"
    }
   ],
   "source": [
    "string_mayus = string.upper()\n",
    "string_mayus"
   ]
  },
  {
   "attachments": {},
   "cell_type": "markdown",
   "metadata": {},
   "source": [
    "- Otra con las letras en minúsculas."
   ]
  },
  {
   "cell_type": "code",
   "execution_count": 3,
   "metadata": {},
   "outputs": [
    {
     "data": {
      "text/plain": [
       "'hoy estamos en una clase de repaso, el objetivo es intentar solucionar todas vuestras dudas, preguntad todo lo que queráis!'"
      ]
     },
     "execution_count": 3,
     "metadata": {},
     "output_type": "execute_result"
    }
   ],
   "source": [
    "string_minus = string.lower()\n",
    "string_minus"
   ]
  },
  {
   "attachments": {},
   "cell_type": "markdown",
   "metadata": {},
   "source": [
    "2. Pon todas las primeras letras del *string* en mayúscula\n"
   ]
  },
  {
   "cell_type": "code",
   "execution_count": 4,
   "metadata": {},
   "outputs": [
    {
     "data": {
      "text/plain": [
       "'Hoy Estamos En Una Clase De Repaso, El Objetivo Es Intentar Solucionar Todas Vuestras Dudas, Preguntad Todo Lo Que Queráis!'"
      ]
     },
     "execution_count": 4,
     "metadata": {},
     "output_type": "execute_result"
    }
   ],
   "source": [
    "string2 = string.title()\n",
    "string2"
   ]
  },
  {
   "attachments": {},
   "cell_type": "markdown",
   "metadata": {},
   "source": [
    "3️. Separa el *string*  por los espacios y almacena el resultado en una lista llamanda `texto_lista`\n"
   ]
  },
  {
   "cell_type": "code",
   "execution_count": 5,
   "metadata": {},
   "outputs": [
    {
     "name": "stdout",
     "output_type": "stream",
     "text": [
      "['Hoy', 'estamos', 'en', 'una', 'clase', 'de', 'repaso,', 'el', 'objetivo', 'es', 'intentar', 'solucionar', 'todas', 'vuestras', 'dudas,', 'preguntad', 'todo', 'lo', 'que', 'queráis!']\n"
     ]
    }
   ],
   "source": [
    "texto_lista = string.split(\" \")\n",
    "print(texto_lista)"
   ]
  },
  {
   "attachments": {},
   "cell_type": "markdown",
   "metadata": {},
   "source": [
    "4️. De la lista obtenida en el ejercicio anterior, selecciona solo los 5 primero elementos y almacena los resultados en una variable que se llame `texto_lista_corta` "
   ]
  },
  {
   "cell_type": "code",
   "execution_count": 6,
   "metadata": {},
   "outputs": [
    {
     "data": {
      "text/plain": [
       "['Hoy', 'estamos', 'en', 'una', 'clase']"
      ]
     },
     "execution_count": 6,
     "metadata": {},
     "output_type": "execute_result"
    }
   ],
   "source": [
    "texto_lista_corta = texto_lista[:5]\n",
    "texto_lista_corta"
   ]
  },
  {
   "attachments": {},
   "cell_type": "markdown",
   "metadata": {},
   "source": [
    "De la lista obtenida en el ejercicio anterior, vuelve a convertirla en string."
   ]
  },
  {
   "cell_type": "code",
   "execution_count": 7,
   "metadata": {},
   "outputs": [
    {
     "name": "stdout",
     "output_type": "stream",
     "text": [
      "Hoy estamos en una clase\n",
      "<class 'str'>\n"
     ]
    }
   ],
   "source": [
    "string_nuevo1 = \" \".join(texto_lista_corta)\n",
    "print(string_nuevo1)\n",
    "print(type(string_nuevo1))"
   ]
  },
  {
   "attachments": {},
   "cell_type": "markdown",
   "metadata": {},
   "source": [
    "Está la palabra \"el\" en el string"
   ]
  },
  {
   "cell_type": "code",
   "execution_count": 8,
   "metadata": {},
   "outputs": [
    {
     "data": {
      "text/plain": [
       "False"
      ]
     },
     "execution_count": 8,
     "metadata": {},
     "output_type": "execute_result"
    }
   ],
   "source": [
    "#Aplicamos operación binaria para comprobar.\n",
    "#Aunque sabemos que no aparece \"el\" en nuestra lista puesto que la hemos modificado previamente al seleccionar los cinco primeros elementos [:5].\n",
    "\n",
    "\"el\" in string_nuevo1"
   ]
  },
  {
   "attachments": {},
   "cell_type": "markdown",
   "metadata": {},
   "source": [
    "Reemplaza \"Hoy\" por nada"
   ]
  },
  {
   "cell_type": "code",
   "execution_count": 9,
   "metadata": {},
   "outputs": [
    {
     "data": {
      "text/plain": [
       "'  estamos en una clase'"
      ]
     },
     "execution_count": 9,
     "metadata": {},
     "output_type": "execute_result"
    }
   ],
   "source": [
    "string_reemplazado = string_nuevo1.replace(\"Hoy\", \" \")\n",
    "string_reemplazado"
   ]
  },
  {
   "cell_type": "code",
   "execution_count": 10,
   "metadata": {},
   "outputs": [
    {
     "data": {
      "text/plain": [
       "'estamos en una clase'"
      ]
     },
     "execution_count": 10,
     "metadata": {},
     "output_type": "execute_result"
    }
   ],
   "source": [
    "#olvidé eliminar el espacio!!!\n",
    "string_reemplazado.strip()"
   ]
  },
  {
   "attachments": {},
   "cell_type": "markdown",
   "metadata": {},
   "source": [
    "**Encuentra el número que no está en la lista**\n",
    "\n",
    "Tenemos una lista desordenada con números positivos de 1 a n. Siempre faltará un sólo número de esta lista aleatoria, ¿cómo identifico cuál falta? Cread un programa para que este código devuelva los resultados deseados:\n",
    "\n",
    "```python\n",
    "lista1 = [3,7,1,2,8,4,5] # nos tiene que devolver 6\n",
    "lista2 = [4,6,1,3,5] #  nos tiene que devolver 2\n",
    "lista3 = [34,35,36,38,39,40] # nos tiene que devolver 37\n",
    "```\n",
    "\n",
    "BONUS: Introduce los resultados obtenidos en un diccionario, indicando que numero falta para cada una de las listas:\n",
    "```python\n",
    "# por ejemplo\n",
    "\n",
    "resultados = {'falta_lista_1': valor_numerico_1, 'falta_lista_2': valor_numerico_2, 'falta_lista_3': valor_numerico_3}\n",
    "```"
   ]
  },
  {
   "cell_type": "code",
   "execution_count": 224,
   "metadata": {},
   "outputs": [],
   "source": [
    "lista1 = [3,7,1,2,8,4,5]\n",
    "lista2 = [4,6,1,3,5] \n",
    "lista3 = [34,35,36,38,39,40]\n",
    "\n",
    "#Después de varios intentos, se llega  a la conclusión de que el mejor rango de iteración será\n",
    "#aquel compuesto por el mínimo de la lista y el máximo +1 (elemento faltante) para poder sacar el número\n",
    "#en cualquiera de los casos y no solo en las listas dadas."
   ]
  },
  {
   "cell_type": "code",
   "execution_count": 239,
   "metadata": {},
   "outputs": [
    {
     "name": "stdout",
     "output_type": "stream",
     "text": [
      "6 es el número que falta\n"
     ]
    }
   ],
   "source": [
    "#Iteramos por lista1\n",
    "\n",
    "for valor_num1 in range(min(lista1), max(lista1)+1):\n",
    "    if valor_num1 in lista1: \n",
    "         continue       \n",
    "    else:\n",
    "        valor_faltante1 = valor_num1\n",
    "        print(f\"{valor_faltante1} es el número que falta\")"
   ]
  },
  {
   "cell_type": "code",
   "execution_count": 235,
   "metadata": {},
   "outputs": [
    {
     "name": "stdout",
     "output_type": "stream",
     "text": [
      "2 es el número que falta\n"
     ]
    }
   ],
   "source": [
    "#Iteramos por lista2\n",
    "\n",
    "for valor_num2 in range(min(lista2), max(lista2)+1):\n",
    "    if valor_num2 in lista2: \n",
    "         continue       \n",
    "    else:\n",
    "        valor_faltante2 = valor_num2\n",
    "        print(f\"{valor_faltante2} es el número que falta\")\n"
   ]
  },
  {
   "cell_type": "code",
   "execution_count": 237,
   "metadata": {},
   "outputs": [
    {
     "name": "stdout",
     "output_type": "stream",
     "text": [
      "37 es el número que falta\n"
     ]
    }
   ],
   "source": [
    "#Iteramos por lista3\n",
    "\n",
    "for valor_num3 in range(min(lista3), max(lista3)+1):\n",
    "    if valor_num3 in lista3: \n",
    "         continue       \n",
    "    else:\n",
    "        valor_faltante3 = valor_num3\n",
    "        print(f\"{valor_faltante3} es el número que falta\")"
   ]
  },
  {
   "attachments": {},
   "cell_type": "markdown",
   "metadata": {},
   "source": [
    "#BONUS: Por último, introducimos los valores dentro del diccionario:"
   ]
  },
  {
   "cell_type": "code",
   "execution_count": 244,
   "metadata": {},
   "outputs": [
    {
     "name": "stdout",
     "output_type": "stream",
     "text": [
      "{'valor_faltante1': 6, 'valor_faltante2': 2, 'valor_faltante3': 37}\n"
     ]
    }
   ],
   "source": [
    "resultados = {'valor_faltante1': valor_faltante1, 'valor_faltante2': valor_faltante2, 'valor_faltante3': valor_faltante3}\n",
    "print(resultados)"
   ]
  },
  {
   "cell_type": "markdown",
   "metadata": {},
   "source": [
    "**Mover los ceros a la izquierda**\n",
    "\n",
    "Nos dan un *string* con números aleatorios. Algunos de ellos son 0. Encuentra todos los ceros y ponlos al principio de la lista, manteniendo el orden de los demás números.\n",
    "\n",
    "Ejemplo:\n",
    "\n",
    "```python\n",
    "A = [1,10,88,0,59,63,0,20,0]\n",
    "\n",
    "# tiene que devolver\n",
    "[0, 0, 0, 1, 10, 88, 59, 63, 20]\n",
    "```"
   ]
  },
  {
   "cell_type": "code",
   "execution_count": 15,
   "metadata": {},
   "outputs": [
    {
     "name": "stdout",
     "output_type": "stream",
     "text": [
      "[0, 0, 0]\n",
      "[1, 10, 88, 59, 63, 20]\n"
     ]
    }
   ],
   "source": [
    "#Lo primero que vamos a hacer es crear una lista donde podamos almacenar los ceros a la izquierda. \n",
    "#Esta será lista_ceros.\n",
    "\n",
    "A = [1,10,88,0,59,63,0,20,0]\n",
    "lista_ceros = []\n",
    "\n",
    "for num in A:\n",
    "    if num == 0:\n",
    "        lista_ceros.append(num)\n",
    "        A.remove(num)\n",
    "    else:\n",
    "        pass\n",
    "\n",
    "print(lista_ceros)\n",
    "print(A)"
   ]
  },
  {
   "cell_type": "code",
   "execution_count": 16,
   "metadata": {},
   "outputs": [
    {
     "data": {
      "text/plain": [
       "[0, 0, 0, 1, 10, 88, 59, 63, 20]"
      ]
     },
     "execution_count": 16,
     "metadata": {},
     "output_type": "execute_result"
    }
   ],
   "source": [
    "#A continuación que ya tenemos los ceros por un lado y la lista por otro, unimos ambas listas\n",
    "#para obtener el resultado deseado.\n",
    "lista_ceros.extend(A)\n",
    "lista_ceros"
   ]
  },
  {
   "cell_type": "markdown",
   "metadata": {},
   "source": [
    "**Invertir palabras de una frase**\n",
    "\n",
    "Nos dan una frase en que quieren que las letras de cada palabra acaben teniendo el orden invertido, manteniendo el orden de las palabras.\n",
    "\n",
    "```python\n",
    "frase = 'Hola Ada'\n",
    "print(frase) # nos daría 'aloH adA'\n",
    "```"
   ]
  },
  {
   "cell_type": "code",
   "execution_count": 13,
   "metadata": {},
   "outputs": [
    {
     "data": {
      "text/plain": [
       "['H', 'o', 'l', 'a', ' ', 'A', 'd', 'a']"
      ]
     },
     "execution_count": 13,
     "metadata": {},
     "output_type": "execute_result"
    }
   ],
   "source": [
    "#Esta fue la primera manera en la que intenté solucionar el ejercicio. El resultado es \"casi\" el esperado. \n",
    "#Un poco chapucero, la verdad.\n",
    "\n",
    "frase = 'Hola Ada'\n",
    "frase_en_lista = list(frase)\n",
    "#obtenemos lista de string\n",
    "frase_en_lista "
   ]
  },
  {
   "cell_type": "code",
   "execution_count": 14,
   "metadata": {},
   "outputs": [
    {
     "data": {
      "text/plain": [
       "['a', 'l', 'o', 'H']"
      ]
     },
     "execution_count": 14,
     "metadata": {},
     "output_type": "execute_result"
    }
   ],
   "source": [
    "hola = frase_en_lista[:4]\n",
    "hola\n",
    "hola.reverse()\n",
    "hola"
   ]
  },
  {
   "cell_type": "code",
   "execution_count": 15,
   "metadata": {},
   "outputs": [
    {
     "data": {
      "text/plain": [
       "['a', 'd', 'A']"
      ]
     },
     "execution_count": 15,
     "metadata": {},
     "output_type": "execute_result"
    }
   ],
   "source": [
    "ada = frase_en_lista[5:]\n",
    "ada.reverse()\n",
    "ada"
   ]
  },
  {
   "cell_type": "code",
   "execution_count": 17,
   "metadata": {},
   "outputs": [],
   "source": [
    "hola_reves = \" \".join(hola)\n",
    "ada_reves = \" \".join(ada)"
   ]
  },
  {
   "cell_type": "code",
   "execution_count": 18,
   "metadata": {},
   "outputs": [
    {
     "name": "stdout",
     "output_type": "stream",
     "text": [
      "la frase del revés es: a l o H a d A\n"
     ]
    }
   ],
   "source": [
    "#Aunque se consigue dar la vuelta a la frase original, no he conseguido, sin volverme loca, eliminar los\n",
    "#espacios entre los elementos de la cadena de string.\n",
    "\n",
    "print(f\"la frase del revés es: {hola_reves} {ada_reves}\")"
   ]
  },
  {
   "cell_type": "code",
   "execution_count": 17,
   "metadata": {},
   "outputs": [
    {
     "name": "stdout",
     "output_type": "stream",
     "text": [
      "adA aloH\n"
     ]
    }
   ],
   "source": [
    "#Investigué y esta es la manera más sencilla que he encontrado, pero para ello he tenido que realizar búsquedas en internet\n",
    "#y esto no lo hemos visto todavía en clase.\n",
    "\n",
    "frase = \"Hola Ada\"\n",
    "frase_invertida = frase [::-1]\n",
    "print(frase_invertida)"
   ]
  },
  {
   "cell_type": "code",
   "execution_count": 18,
   "metadata": {},
   "outputs": [
    {
     "name": "stdout",
     "output_type": "stream",
     "text": [
      "['aloH', 'adA']\n"
     ]
    }
   ],
   "source": [
    "#A continuación, intentando mejorar el ejercicio y tras varios intentos, una mejora y fusión de ambos de arriba.\n",
    "\n",
    "frase = \"Hola Ada\"\n",
    "lista_f= frase.split()\n",
    "\n",
    "frase_reves = []\n",
    "for l in lista_f:\n",
    "    frase_reves.append(l[::-1])\n",
    "\n",
    "print(frase_reves)"
   ]
  },
  {
   "cell_type": "code",
   "execution_count": 19,
   "metadata": {},
   "outputs": [
    {
     "data": {
      "text/plain": [
       "'aloH adA'"
      ]
     },
     "execution_count": 19,
     "metadata": {},
     "output_type": "execute_result"
    }
   ],
   "source": [
    "\" \".join(frase_reves)"
   ]
  },
  {
   "attachments": {},
   "cell_type": "markdown",
   "metadata": {},
   "source": [
    "###  ¿Es un DNI valido?\n",
    "\n",
    "Los DNI españoles pueden ser:\n",
    "\n",
    "- NIF (Numero de Identificación Fiscal) - 8 numeros y una letra, o\n",
    "- NIE (Numero de Identificación de Extranjeros) - 1 letra, 7 numeros y 1 letra."
   ]
  },
  {
   "cell_type": "code",
   "execution_count": 205,
   "metadata": {},
   "outputs": [],
   "source": [
    "lista_dni = [\"X-1234567-Z\", \"X-1234567\", \"12345678-M\", \"1234567-T\", \"12345677\"] "
   ]
  },
  {
   "cell_type": "code",
   "execution_count": 231,
   "metadata": {},
   "outputs": [
    {
     "name": "stdout",
     "output_type": "stream",
     "text": [
      "El documento X-1234567-Z es un NIE válido\n",
      "El documento X-1234567 no es válido\n",
      "El documento 12345678-M es un NIF válido\n",
      "El documento 1234567-T no es válido\n",
      "El documento 12345677 no es válido\n"
     ]
    }
   ],
   "source": [
    "#Para resolver el problema hemos de tener en cuenta la longitud de cada uno de los strings (dni) contenidos\n",
    "#en la lista. Normalmente tanto para los NIF como para los NIE la longitud es de 9 dígitos con letras\n",
    "#delante o detrás, donde corresponda.\n",
    "\n",
    "#Como aquí los diferentes elementos del string están unidos por guiones, para simplificar un poco, se ha\n",
    "#tenido en cuenta la longitud con dichos guiones incluidos. Claro está, que si no se tienen en cuenta,\n",
    "#esta solución solo valdría para este caso (como digo, considerando que están incluidos)\n",
    "#De manera que la len() para NIE es de 11 y para NIF 10 y esos datos son las condiciones establecidas dentro del programa:\n",
    "\n",
    "for dni in lista_dni:\n",
    "    if len(dni) == 10:\n",
    "        print(f\"El documento {dni} es un NIF válido\")\n",
    "    elif len(dni) == 11:\n",
    "        print(f\"El documento {dni} es un NIE válido\")\n",
    "    else:\n",
    "        print(f\"El documento {dni} no es válido\")"
   ]
  },
  {
   "attachments": {},
   "cell_type": "markdown",
   "metadata": {},
   "source": [
    "**BONUS: Encuentra los k números más cerca a X**\n",
    "\n",
    "\n",
    "Haz una programa que compare los contenidos de una lista a un número dado X. Queremos que nos devuelva los k números que son más parecidos al número dado.\n",
    "\n",
    "Ejemplo:\n",
    "```python\n",
    "L = [4, 19, -5, 100, 53, 43, 74, -83, 13.5, 26]\n",
    "# Dados los siguientes valores \n",
    "x =30\n",
    "k = 3 # el número de números que tendremos que buscar en la lista que se parecen a 30 \n",
    "# El output debería ser igual a [26, 19, 43]\n",
    "```"
   ]
  },
  {
   "cell_type": "code",
   "execution_count": null,
   "metadata": {},
   "outputs": [],
   "source": []
  }
 ],
 "metadata": {
  "kernelspec": {
   "display_name": "adalabenv",
   "language": "python",
   "name": "python3"
  },
  "language_info": {
   "codemirror_mode": {
    "name": "ipython",
    "version": 3
   },
   "file_extension": ".py",
   "mimetype": "text/x-python",
   "name": "python",
   "nbconvert_exporter": "python",
   "pygments_lexer": "ipython3",
   "version": "3.10.9"
  },
  "orig_nbformat": 4,
  "vscode": {
   "interpreter": {
    "hash": "0b8bbabd87d3ce636409443d1398e5656bf795e33c753b5e821c4b969f4e6c41"
   }
  }
 },
 "nbformat": 4,
 "nbformat_minor": 2
}
